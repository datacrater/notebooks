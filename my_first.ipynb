{
  "nbformat": 4,
  "nbformat_minor": 0,
  "metadata": {
    "colab": {
      "name": "my_first.ipynb",
      "version": "0.3.2",
      "provenance": [],
      "collapsed_sections": []
    },
    "kernelspec": {
      "name": "python3",
      "display_name": "Python 3"
    }
  },
  "cells": [
    {
      "cell_type": "markdown",
      "metadata": {
        "id": "view-in-github",
        "colab_type": "text"
      },
      "source": [
        "[View in Colaboratory](https://colab.research.google.com/github/datacrater/notebooks/blob/master/my_first.ipynb)"
      ]
    },
    {
      "metadata": {
        "id": "yr2hhPynlzf4",
        "colab_type": "code",
        "colab": {
          "base_uri": "https://localhost:8080/",
          "height": 35
        },
        "outputId": "a7ab52e9-13dd-46fd-f397-67ec3875eb01"
      },
      "cell_type": "code",
      "source": [
        "def my_first(num1, num2):\n",
        "  adding = num1 + num2\n",
        "  return adding\n",
        "print(my_first(2,3))"
      ],
      "execution_count": 1,
      "outputs": [
        {
          "output_type": "stream",
          "text": [
            "5\n"
          ],
          "name": "stdout"
        }
      ]
    }
  ]
}